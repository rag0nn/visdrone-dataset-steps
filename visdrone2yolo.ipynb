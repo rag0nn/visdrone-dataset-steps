{
 "cells": [
  {
   "cell_type": "code",
   "execution_count": 1,
   "id": "2362f3aa",
   "metadata": {},
   "outputs": [],
   "source": [
    "import os\n",
    "from pathlib import Path\n",
    "from PIL import Image\n",
    "from tqdm import tqdm\n",
    "from ultralytics.utils.downloads import download\n",
    "import yaml"
   ]
  },
  {
   "cell_type": "code",
   "execution_count": 2,
   "id": "a2c5d3b6",
   "metadata": {},
   "outputs": [],
   "source": [
    "# import yaml file\n",
    "with open('VisDrone.yaml', 'r') as file:\n",
    "    yaml_data = yaml.safe_load(file)\n",
    "\n",
    "# YAML verisinden 'path' anahtarını kullanarak bir yol belirleyin\n",
    "dir = Path(yaml_data['path']) \n"
   ]
  },
  {
   "cell_type": "code",
   "execution_count": 3,
   "id": "e5c48d2f",
   "metadata": {},
   "outputs": [
    {
     "name": "stdout",
     "output_type": "stream",
     "text": [
      "Downloading https://github.com/ultralytics/yolov5/releases/download/v1.0/VisDrone2019-DET-test-dev.zip to '..\\VisDrone\\VisDrone2019-DET-test-dev.zip'...\n",
      "Downloading https://github.com/ultralytics/yolov5/releases/download/v1.0/VisDrone2019-DET-val.zip to '..\\VisDrone\\VisDrone2019-DET-val.zip'...\n",
      "Downloading https://github.com/ultralytics/yolov5/releases/download/v1.0/VisDrone2019-DET-train.zip to '..\\VisDrone\\VisDrone2019-DET-train.zip'...\n",
      "Downloading https://github.com/ultralytics/yolov5/releases/download/v1.0/VisDrone2019-DET-test-challenge.zip to '..\\VisDrone\\VisDrone2019-DET-test-challenge.zip'...\n"
     ]
    }
   ],
   "source": [
    "# Download data\n",
    "dir = Path(yaml_data['path'])  # dataset root dir\n",
    "urls = ['https://github.com/ultralytics/yolov5/releases/download/v1.0/VisDrone2019-DET-train.zip',\n",
    "      'https://github.com/ultralytics/yolov5/releases/download/v1.0/VisDrone2019-DET-val.zip',\n",
    "      'https://github.com/ultralytics/yolov5/releases/download/v1.0/VisDrone2019-DET-test-dev.zip',\n",
    "      'https://github.com/ultralytics/yolov5/releases/download/v1.0/VisDrone2019-DET-test-challenge.zip']\n",
    "download(urls, dir=dir, curl=True, threads=4)\n"
   ]
  },
  {
   "cell_type": "code",
   "execution_count": 4,
   "id": "d84c2d13",
   "metadata": {},
   "outputs": [],
   "source": [
    "# converting algorithm\n",
    "def visdrone2yolo(dir):\n",
    "\n",
    "    def convert_box(size, box):\n",
    "      # Convert VisDrone box to YOLO xywh box\n",
    "        dw = 1. / size[0]\n",
    "        dh = 1. / size[1]\n",
    "        return (box[0] + box[2] / 2) * dw, (box[1] + box[3] / 2) * dh, box[2] * dw, box[3] * dh\n",
    "\n",
    "    (dir / 'labels').mkdir(parents=True, exist_ok=True)  # make labels directory\n",
    "    pbar = tqdm((dir / 'annotations').glob('*.txt'), desc=f'Converting {dir}')\n",
    "    for f in pbar:\n",
    "        img_size = Image.open((dir / 'images' / f.name).with_suffix('.jpg')).size\n",
    "        lines = []\n",
    "        with open(f, 'r') as file:  # read annotation.txt\n",
    "            for row in [x.split(',') for x in file.read().strip().splitlines()]:\n",
    "                if row[4] == '0':  # VisDrone 'ignored regions' class 0\n",
    "                    continue\n",
    "                cls = int(row[5]) - 1\n",
    "                box = convert_box(img_size, tuple(map(int, row[:4])))\n",
    "                lines.append(f\"{cls} {' '.join(f'{x:.6f}' for x in box)}\\n\")\n",
    "                with open(str(f).replace(f'{os.sep}annotations{os.sep}', f'{os.sep}labels{os.sep}'), 'w') as fl:\n",
    "                    fl.writelines(lines)  # write label.txt\n",
    "\n"
   ]
  },
  {
   "cell_type": "code",
   "execution_count": 5,
   "id": "2ba47b17",
   "metadata": {},
   "outputs": [
    {
     "name": "stderr",
     "output_type": "stream",
     "text": [
      "Converting ..\\VisDrone\\VisDrone2019-DET-train: 6471it [00:56, 115.16it/s]\n",
      "Converting ..\\VisDrone\\VisDrone2019-DET-val: 548it [00:06, 84.41it/s] \n",
      "Converting ..\\VisDrone\\VisDrone2019-DET-test-dev: 1610it [00:12, 131.38it/s]\n"
     ]
    }
   ],
   "source": [
    "# Converting process\n",
    "dir = Path(yaml_data['path']) \n",
    "for d in 'VisDrone2019-DET-train', 'VisDrone2019-DET-val', 'VisDrone2019-DET-test-dev':\n",
    "    visdrone2yolo(dir / d)  # convert VisDrone annotations to YOLO labels"
   ]
  },
  {
   "cell_type": "code",
   "execution_count": null,
   "id": "8b8526ec",
   "metadata": {},
   "outputs": [],
   "source": []
  }
 ],
 "metadata": {
  "kernelspec": {
   "display_name": "Python 3 (ipykernel)",
   "language": "python",
   "name": "python3"
  },
  "language_info": {
   "codemirror_mode": {
    "name": "ipython",
    "version": 3
   },
   "file_extension": ".py",
   "mimetype": "text/x-python",
   "name": "python",
   "nbconvert_exporter": "python",
   "pygments_lexer": "ipython3",
   "version": "3.9.16"
  }
 },
 "nbformat": 4,
 "nbformat_minor": 5
}
